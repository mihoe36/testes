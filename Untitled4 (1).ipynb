{
 "cells": [
  {
   "cell_type": "markdown",
   "id": "38fe1d19-7a09-44a1-9048-1e84cf968d82",
   "metadata": {},
   "source": [
    "Where is the most desirable place to live in Calgary Alberta ?\n",
    "\n",
    " \n",
    "Capstone Project - The Battle of Neighborhoods \n",
    "IBM Applied Data Science Capstone\n",
    "\n",
    "July 2021\n",
    "\n",
    "1. Introduction\n",
    "1.1 Description & Discussion of the Background\n",
    "Calgary Alberta in Canada is the largest city in the province which is home to 1.34 million people, and has been selected in the top 10 most livable city in the world from 2009 to 2019 by the Economist Intelligence Unit. A combination of wildlife landscape, urban sprawl and downtown commercialism made Calgary an attractive city for many international newcomers and Canadians seeking to relocate.\n",
    "However, if you are new to the place, moving to a different city can be challenging. There are many things to consider when you are choosing where you are going to live. Do you want a big house with a big backyard outside of the inner city ? Do you want to enjoy entertainment and nightlife? What is your budget to buy a house ?\n",
    "The purpose of this project is to help people to explore the communities to determine which neighborhoods in Calgary would be the desirable place to buy a house for those who are interested in moving to Calgary. This project attempts to answer the questions “Where would be an affordable neighbourhood to buy a house?” and “What venues would be available in each neighbourhood ?'\n",
    "\n",
    "1.2 Data Description\n",
    "For neighborhood venue analysis, a table named \" List of postal codes of Canada:T \" from Wikipedia was used to obtain a list of the neighborhood information including postal codes, borough, neighborhood, latitude and longitude. These data was scraped using BeautifulSoup,"
   ]
  },
  {
   "cell_type": "code",
   "execution_count": null,
   "id": "f12f1bd6-a4cc-4527-8349-e6500331c1b2",
   "metadata": {},
   "outputs": [],
   "source": []
  }
 ],
 "metadata": {
  "kernelspec": {
   "display_name": "Python",
   "language": "python",
   "name": "conda-env-python-py"
  },
  "language_info": {
   "codemirror_mode": {
    "name": "ipython",
    "version": 3
   },
   "file_extension": ".py",
   "mimetype": "text/x-python",
   "name": "python",
   "nbconvert_exporter": "python",
   "pygments_lexer": "ipython3",
   "version": "3.6.13"
  }
 },
 "nbformat": 4,
 "nbformat_minor": 5
}
